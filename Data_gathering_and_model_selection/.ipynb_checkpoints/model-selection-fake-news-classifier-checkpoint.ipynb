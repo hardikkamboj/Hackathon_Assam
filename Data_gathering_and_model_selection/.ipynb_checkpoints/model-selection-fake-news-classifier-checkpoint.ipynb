{
 "cells": [
  {
   "cell_type": "code",
   "execution_count": 2,
   "metadata": {
    "_cell_guid": "b1076dfc-b9ad-4769-8c92-a6c4dae69d19",
    "_uuid": "8f2839f25d086af736a60e9eeb907d3b93b6e0e5"
   },
   "outputs": [
    {
     "name": "stdout",
     "output_type": "stream",
     "text": [
      "/kaggle/input/my-data/data.csv\n"
     ]
    }
   ],
   "source": [
    "#importing libraries\n",
    "\n",
    "import numpy as np # linear algebra\n",
    "import pandas as pd # data processing, CSV file I/O (e.g. pd.read_csv)\n",
    "\n",
    "import os\n",
    "for dirname, _, filenames in os.walk('/kaggle/input'):\n",
    "    for filename in filenames:\n",
    "        print(os.path.join(dirname, filename))"
   ]
  },
  {
   "cell_type": "code",
   "execution_count": 48,
   "metadata": {},
   "outputs": [],
   "source": [
    "#libraries used \n",
    "\n",
    "import nltk\n",
    "import re\n",
    "from nltk.corpus import stopwords\n",
    "from nltk.stem.porter import PorterStemmer\n",
    "\n",
    "from sklearn.model_selection import train_test_split\n",
    "\n",
    "import tensorflow as tf\n",
    "from tensorflow.keras.layers import Embedding\n",
    "from tensorflow.keras.preprocessing.sequence import pad_sequences\n",
    "from tensorflow.keras.models import Sequential\n",
    "from tensorflow.keras.preprocessing.text import one_hot\n",
    "from tensorflow.keras.layers import LSTM\n",
    "from tensorflow.keras.layers import Dense\n",
    "from tensorflow.keras.layers import Bidirectional"
   ]
  },
  {
   "cell_type": "code",
   "execution_count": 5,
   "metadata": {},
   "outputs": [
    {
     "name": "stdout",
     "output_type": "stream",
     "text": [
      "(34324, 2)\n"
     ]
    },
    {
     "data": {
      "text/html": [
       "<div>\n",
       "<style scoped>\n",
       "    .dataframe tbody tr th:only-of-type {\n",
       "        vertical-align: middle;\n",
       "    }\n",
       "\n",
       "    .dataframe tbody tr th {\n",
       "        vertical-align: top;\n",
       "    }\n",
       "\n",
       "    .dataframe thead th {\n",
       "        text-align: right;\n",
       "    }\n",
       "</style>\n",
       "<table border=\"1\" class=\"dataframe\">\n",
       "  <thead>\n",
       "    <tr style=\"text-align: right;\">\n",
       "      <th></th>\n",
       "      <th>text</th>\n",
       "      <th>label</th>\n",
       "    </tr>\n",
       "  </thead>\n",
       "  <tbody>\n",
       "    <tr>\n",
       "      <th>0</th>\n",
       "      <td>House Dem Aide: We Didn’t Even See Comey’s Let...</td>\n",
       "      <td>Fake</td>\n",
       "    </tr>\n",
       "    <tr>\n",
       "      <th>1</th>\n",
       "      <td>FLYNN: Hillary Clinton, Big Woman on Campus - ...</td>\n",
       "      <td>True</td>\n",
       "    </tr>\n",
       "    <tr>\n",
       "      <th>2</th>\n",
       "      <td>Why the Truth Might Get You Fired</td>\n",
       "      <td>Fake</td>\n",
       "    </tr>\n",
       "    <tr>\n",
       "      <th>3</th>\n",
       "      <td>15 Civilians Killed In Single US Airstrike Hav...</td>\n",
       "      <td>Fake</td>\n",
       "    </tr>\n",
       "    <tr>\n",
       "      <th>4</th>\n",
       "      <td>Iranian woman jailed for fictional unpublished...</td>\n",
       "      <td>Fake</td>\n",
       "    </tr>\n",
       "  </tbody>\n",
       "</table>\n",
       "</div>"
      ],
      "text/plain": [
       "                                                text label\n",
       "0  House Dem Aide: We Didn’t Even See Comey’s Let...  Fake\n",
       "1  FLYNN: Hillary Clinton, Big Woman on Campus - ...  True\n",
       "2                  Why the Truth Might Get You Fired  Fake\n",
       "3  15 Civilians Killed In Single US Airstrike Hav...  Fake\n",
       "4  Iranian woman jailed for fictional unpublished...  Fake"
      ]
     },
     "execution_count": 5,
     "metadata": {},
     "output_type": "execute_result"
    }
   ],
   "source": [
    "# raw data is the data which is output from previous notebook (gathering fake news dataset)\n",
    "data = pd.read_csv('../input/my-data/data.csv',index_col = 0)\n",
    "print(data.shape)\n",
    "data = data.reset_index(drop = True)\n",
    "data.head()"
   ]
  },
  {
   "cell_type": "code",
   "execution_count": 6,
   "metadata": {},
   "outputs": [
    {
     "data": {
      "text/html": [
       "<div>\n",
       "<style scoped>\n",
       "    .dataframe tbody tr th:only-of-type {\n",
       "        vertical-align: middle;\n",
       "    }\n",
       "\n",
       "    .dataframe tbody tr th {\n",
       "        vertical-align: top;\n",
       "    }\n",
       "\n",
       "    .dataframe thead th {\n",
       "        text-align: right;\n",
       "    }\n",
       "</style>\n",
       "<table border=\"1\" class=\"dataframe\">\n",
       "  <thead>\n",
       "    <tr style=\"text-align: right;\">\n",
       "      <th></th>\n",
       "      <th>text</th>\n",
       "      <th>label</th>\n",
       "    </tr>\n",
       "  </thead>\n",
       "  <tbody>\n",
       "    <tr>\n",
       "      <th>0</th>\n",
       "      <td>House Dem Aide: We Didn’t Even See Comey’s Let...</td>\n",
       "      <td>0</td>\n",
       "    </tr>\n",
       "    <tr>\n",
       "      <th>1</th>\n",
       "      <td>FLYNN: Hillary Clinton, Big Woman on Campus - ...</td>\n",
       "      <td>1</td>\n",
       "    </tr>\n",
       "    <tr>\n",
       "      <th>2</th>\n",
       "      <td>Why the Truth Might Get You Fired</td>\n",
       "      <td>0</td>\n",
       "    </tr>\n",
       "    <tr>\n",
       "      <th>3</th>\n",
       "      <td>15 Civilians Killed In Single US Airstrike Hav...</td>\n",
       "      <td>0</td>\n",
       "    </tr>\n",
       "    <tr>\n",
       "      <th>4</th>\n",
       "      <td>Iranian woman jailed for fictional unpublished...</td>\n",
       "      <td>0</td>\n",
       "    </tr>\n",
       "  </tbody>\n",
       "</table>\n",
       "</div>"
      ],
      "text/plain": [
       "                                                text  label\n",
       "0  House Dem Aide: We Didn’t Even See Comey’s Let...      0\n",
       "1  FLYNN: Hillary Clinton, Big Woman on Campus - ...      1\n",
       "2                  Why the Truth Might Get You Fired      0\n",
       "3  15 Civilians Killed In Single US Airstrike Hav...      0\n",
       "4  Iranian woman jailed for fictional unpublished...      0"
      ]
     },
     "execution_count": 6,
     "metadata": {},
     "output_type": "execute_result"
    }
   ],
   "source": [
    "#encoding the label col\n",
    "data['label'] = np.where(data['label'] == 'Fake',0,1)\n",
    "# 0 - fake , 1 - true\n",
    "data.head()"
   ]
  },
  {
   "cell_type": "code",
   "execution_count": 7,
   "metadata": {},
   "outputs": [
    {
     "data": {
      "text/plain": [
       "1    0.588014\n",
       "0    0.411986\n",
       "Name: label, dtype: float64"
      ]
     },
     "execution_count": 7,
     "metadata": {},
     "output_type": "execute_result"
    }
   ],
   "source": [
    "# lets see the value counts of the classes \n",
    "data['label'].value_counts() / len(data)"
   ]
  },
  {
   "cell_type": "markdown",
   "metadata": {},
   "source": [
    "# Data Preprocessing"
   ]
  },
  {
   "cell_type": "code",
   "execution_count": 8,
   "metadata": {},
   "outputs": [
    {
     "data": {
      "text/plain": [
       "'House Dem Aide: We Didn’t Even See Comey’s Letter Until Jason Chaffetz Tweeted It'"
      ]
     },
     "execution_count": 8,
     "metadata": {},
     "output_type": "execute_result"
    }
   ],
   "source": [
    "## delete it later\n",
    "data['text'][0]"
   ]
  },
  {
   "cell_type": "code",
   "execution_count": 21,
   "metadata": {},
   "outputs": [
    {
     "name": "stderr",
     "output_type": "stream",
     "text": [
      "100%|██████████| 34324/34324 [00:10<00:00, 3139.95it/s]\n"
     ]
    }
   ],
   "source": [
    "text = list(data['text'])\n",
    "stop_words = set(stopwords.words('english'))\n",
    "\n",
    "ps=PorterStemmer()\n",
    "corpus=[]\n",
    "\n",
    "from tqdm import tqdm \n",
    "\n",
    "for t in tqdm(text):\n",
    "    result = re.sub('[^a-zA-Z]',' ',t)\n",
    "    result = result.lower()\n",
    "    result = result.split()\n",
    "    result = [ps.stem(word) for word in result if not word in stop_words]\n",
    "    result = ' '.join(result)\n",
    "    corpus.append(result)"
   ]
  },
  {
   "cell_type": "code",
   "execution_count": 24,
   "metadata": {},
   "outputs": [],
   "source": []
  },
  {
   "cell_type": "code",
   "execution_count": 29,
   "metadata": {},
   "outputs": [
    {
     "data": {
      "text/plain": [
       "[[466, 7705, 369, 8395, 5265, 4342, 2209, 5858, 665, 7493],\n",
       " [6828, 963, 8019, 7935, 8620, 8123, 6647]]"
      ]
     },
     "execution_count": 29,
     "metadata": {},
     "output_type": "execute_result"
    }
   ],
   "source": [
    "vocab_size = 10000\n",
    "onehot_rep = [one_hot(words,vocab_size) for words in corpus]\n",
    "onehot_rep[:2] #observing first two elements"
   ]
  },
  {
   "cell_type": "code",
   "execution_count": 41,
   "metadata": {},
   "outputs": [],
   "source": [
    "#set a maximum length for sentences\n",
    "smax_length= 20\n",
    "#embedded representation\n",
    "embedd = pad_sequences(onehot_rep,padding='pre',maxlen=smax_length)"
   ]
  },
  {
   "cell_type": "code",
   "execution_count": 52,
   "metadata": {},
   "outputs": [
    {
     "name": "stdout",
     "output_type": "stream",
     "text": [
      "Model: \"sequential_3\"\n",
      "_________________________________________________________________\n",
      "Layer (type)                 Output Shape              Param #   \n",
      "=================================================================\n",
      "embedding_3 (Embedding)      (None, 20, 40)            400000    \n",
      "_________________________________________________________________\n",
      "dropout (Dropout)            (None, 20, 40)            0         \n",
      "_________________________________________________________________\n",
      "bidirectional_3 (Bidirection (None, 200)               112800    \n",
      "_________________________________________________________________\n",
      "dropout_1 (Dropout)          (None, 200)               0         \n",
      "_________________________________________________________________\n",
      "dense_3 (Dense)              (None, 1)                 201       \n",
      "=================================================================\n",
      "Total params: 513,001\n",
      "Trainable params: 513,001\n",
      "Non-trainable params: 0\n",
      "_________________________________________________________________\n",
      "None\n"
     ]
    }
   ],
   "source": [
    "#create a model\n",
    "from tensorflow.keras.layers import Dropout\n",
    "dims=40\n",
    "bi_model=Sequential()\n",
    "bi_model.add(Embedding(vocab_size,dims,input_length=smax_length))\n",
    "bi_model.add(Dropout(0.3))\n",
    "bi_model.add(Bidirectional(LSTM(100))) #lstm with 100 neurons\n",
    "bi_model.add(Dropout(0.3))\n",
    "bi_model.add(Dense(1,activation='sigmoid'))\n",
    "bi_model.compile(loss='binary_crossentropy',optimizer='adam',metrics=['accuracy'])\n",
    "print(bi_model.summary())"
   ]
  },
  {
   "cell_type": "code",
   "execution_count": 53,
   "metadata": {},
   "outputs": [],
   "source": [
    "#creating x and y \n",
    "y = np.array(data['label'])\n",
    "X = np.array(embedd)"
   ]
  },
  {
   "cell_type": "code",
   "execution_count": 54,
   "metadata": {},
   "outputs": [
    {
     "name": "stdout",
     "output_type": "stream",
     "text": [
      "(34324,)\n",
      "(34324, 20)\n"
     ]
    }
   ],
   "source": [
    "print(y.shape)\n",
    "print(X.shape)"
   ]
  },
  {
   "cell_type": "code",
   "execution_count": 55,
   "metadata": {},
   "outputs": [],
   "source": [
    "X_train,X_test,y_train,y_test = train_test_split(X,y,test_size=0.3)"
   ]
  },
  {
   "cell_type": "code",
   "execution_count": 56,
   "metadata": {},
   "outputs": [
    {
     "name": "stdout",
     "output_type": "stream",
     "text": [
      "Epoch 1/20\n",
      "376/376 [==============================] - 5s 14ms/step - loss: 0.3098 - accuracy: 0.8484 - val_loss: 0.2175 - val_accuracy: 0.9044\n",
      "Epoch 2/20\n",
      "376/376 [==============================] - 4s 12ms/step - loss: 0.1740 - accuracy: 0.9296 - val_loss: 0.2114 - val_accuracy: 0.9098\n",
      "Epoch 3/20\n",
      "376/376 [==============================] - 5s 12ms/step - loss: 0.1387 - accuracy: 0.9459 - val_loss: 0.2360 - val_accuracy: 0.9101\n",
      "Epoch 4/20\n",
      "376/376 [==============================] - 4s 12ms/step - loss: 0.1111 - accuracy: 0.9585 - val_loss: 0.2358 - val_accuracy: 0.9068\n",
      "Epoch 5/20\n",
      "376/376 [==============================] - 5s 12ms/step - loss: 0.0913 - accuracy: 0.9647 - val_loss: 0.2667 - val_accuracy: 0.9016\n",
      "Epoch 6/20\n",
      "376/376 [==============================] - 4s 11ms/step - loss: 0.0781 - accuracy: 0.9709 - val_loss: 0.2646 - val_accuracy: 0.9028\n",
      "Epoch 7/20\n",
      "376/376 [==============================] - 5s 12ms/step - loss: 0.0660 - accuracy: 0.9748 - val_loss: 0.3606 - val_accuracy: 0.9024\n",
      "Epoch 8/20\n",
      "376/376 [==============================] - 5s 12ms/step - loss: 0.0608 - accuracy: 0.9774 - val_loss: 0.3420 - val_accuracy: 0.9000\n",
      "Epoch 9/20\n",
      "376/376 [==============================] - 5s 12ms/step - loss: 0.0516 - accuracy: 0.9789 - val_loss: 0.3572 - val_accuracy: 0.8994\n",
      "Epoch 10/20\n",
      "376/376 [==============================] - 5s 13ms/step - loss: 0.0477 - accuracy: 0.9806 - val_loss: 0.4067 - val_accuracy: 0.9006\n",
      "Epoch 11/20\n",
      "376/376 [==============================] - 5s 13ms/step - loss: 0.0458 - accuracy: 0.9809 - val_loss: 0.4156 - val_accuracy: 0.8977\n",
      "Epoch 12/20\n",
      "376/376 [==============================] - 5s 13ms/step - loss: 0.0391 - accuracy: 0.9836 - val_loss: 0.4444 - val_accuracy: 0.8988\n",
      "Epoch 13/20\n",
      "376/376 [==============================] - 5s 12ms/step - loss: 0.0356 - accuracy: 0.9841 - val_loss: 0.4846 - val_accuracy: 0.8948\n",
      "Epoch 14/20\n",
      "376/376 [==============================] - 5s 13ms/step - loss: 0.0337 - accuracy: 0.9843 - val_loss: 0.4811 - val_accuracy: 0.8958\n",
      "Epoch 15/20\n",
      "376/376 [==============================] - 5s 12ms/step - loss: 0.0325 - accuracy: 0.9851 - val_loss: 0.5359 - val_accuracy: 0.8963\n",
      "Epoch 16/20\n",
      "376/376 [==============================] - 4s 12ms/step - loss: 0.0302 - accuracy: 0.9856 - val_loss: 0.5307 - val_accuracy: 0.8974\n",
      "Epoch 17/20\n",
      "376/376 [==============================] - 5s 13ms/step - loss: 0.0295 - accuracy: 0.9862 - val_loss: 0.5941 - val_accuracy: 0.8986\n",
      "Epoch 18/20\n",
      "376/376 [==============================] - 5s 12ms/step - loss: 0.0284 - accuracy: 0.9867 - val_loss: 0.4942 - val_accuracy: 0.8964\n",
      "Epoch 19/20\n",
      "376/376 [==============================] - 4s 12ms/step - loss: 0.0281 - accuracy: 0.9863 - val_loss: 0.5520 - val_accuracy: 0.8952\n",
      "Epoch 20/20\n",
      "376/376 [==============================] - 5s 13ms/step - loss: 0.0261 - accuracy: 0.9867 - val_loss: 0.5950 - val_accuracy: 0.8962\n"
     ]
    },
    {
     "data": {
      "text/plain": [
       "<tensorflow.python.keras.callbacks.History at 0x7f934016b450>"
      ]
     },
     "execution_count": 56,
     "metadata": {},
     "output_type": "execute_result"
    }
   ],
   "source": [
    "bi_model.fit(X_train,y_train,validation_data=(X_test,y_test),epochs=20,batch_size=64)"
   ]
  },
  {
   "cell_type": "code",
   "execution_count": 64,
   "metadata": {},
   "outputs": [],
   "source": [
    "test_preds = bi_model.predict_classes(X_test)"
   ]
  },
  {
   "cell_type": "code",
   "execution_count": 66,
   "metadata": {},
   "outputs": [
    {
     "name": "stdout",
     "output_type": "stream",
     "text": [
      "Accuracy is  0.8961934356185667\n",
      "\n",
      "Confusion matrix is \n"
     ]
    },
    {
     "data": {
      "text/plain": [
       "array([[3774,  505],\n",
       "       [ 564, 5455]])"
      ]
     },
     "execution_count": 66,
     "metadata": {},
     "output_type": "execute_result"
    }
   ],
   "source": [
    "from sklearn.metrics import accuracy_score,confusion_matrix\n",
    "\n",
    "print('Accuracy is ',accuracy_score(y_test,test_preds))\n",
    "print('')\n",
    "print('Confusion matrix is ')\n",
    "confusion_matrix(y_test,test_preds)"
   ]
  },
  {
   "cell_type": "code",
   "execution_count": null,
   "metadata": {},
   "outputs": [],
   "source": [
    "bi_model.save('my_model.h5')"
   ]
  }
 ],
 "metadata": {
  "kernelspec": {
   "display_name": "Python 3",
   "language": "python",
   "name": "python3"
  },
  "language_info": {
   "codemirror_mode": {
    "name": "ipython",
    "version": 3
   },
   "file_extension": ".py",
   "mimetype": "text/x-python",
   "name": "python",
   "nbconvert_exporter": "python",
   "pygments_lexer": "ipython3",
   "version": "3.8.3"
  }
 },
 "nbformat": 4,
 "nbformat_minor": 4
}
